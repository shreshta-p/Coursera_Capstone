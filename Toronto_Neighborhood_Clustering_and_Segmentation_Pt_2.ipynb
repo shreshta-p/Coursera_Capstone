{
  "nbformat": 4,
  "nbformat_minor": 0,
  "metadata": {
    "colab": {
      "name": "Toronto Neighborhood Clustering and Segmentation Pt.2",
      "provenance": []
    },
    "kernelspec": {
      "name": "python3",
      "display_name": "Python 3"
    }
  },
  "cells": [
    {
      "cell_type": "markdown",
      "metadata": {
        "id": "G6WDWtDLK1RK",
        "colab_type": "text"
      },
      "source": [
        "# 1st Part "
      ]
    },
    {
      "cell_type": "markdown",
      "metadata": {
        "id": "84o5S9F3Bn_l",
        "colab_type": "text"
      },
      "source": [
        "Import all the required Libraries"
      ]
    },
    {
      "cell_type": "code",
      "metadata": {
        "id": "2KkL2GrH1Od_",
        "colab_type": "code",
        "colab": {}
      },
      "source": [
        "import requests\n",
        "import pandas as pd\n",
        "pd.set_option('display.max_columns', None)\n",
        "pd.set_option('display.max_rows', None)\n",
        "from bs4 import BeautifulSoup\n",
        "import numpy as np\n",
        "from geopy.geocoders import Nominatim\n",
        "import folium\n",
        "import json\n",
        "from sklearn.cluster import KMeans"
      ],
      "execution_count": 0,
      "outputs": []
    },
    {
      "cell_type": "markdown",
      "metadata": {
        "id": "ih-t5K6PBvCx",
        "colab_type": "text"
      },
      "source": [
        "Extract table from the given url and transform it to Data Frame"
      ]
    },
    {
      "cell_type": "code",
      "metadata": {
        "id": "68Mn2gWA4UnL",
        "colab_type": "code",
        "outputId": "52b8679d-6420-4859-afb7-d8be1026d01a",
        "colab": {
          "base_uri": "https://localhost:8080/",
          "height": 55
        }
      },
      "source": [
        "url = 'https://en.wikipedia.org/wiki/List_of_postal_codes_of_Canada:_M'\n",
        "res = requests.get(url)\n",
        "soup = BeautifulSoup(res.content,'lxml')\n",
        "table = soup.find_all('table')[0] \n",
        "df = pd.read_html(str(table))\n",
        "df[0].to_json(orient='records')\n",
        " "
      ],
      "execution_count": 0,
      "outputs": [
        {
          "output_type": "execute_result",
          "data": {
            "text/plain": [
              "'[{\"Postal code\":\"M1A\",\"Borough\":\"Not assigned\",\"Neighborhood\":null},{\"Postal code\":\"M2A\",\"Borough\":\"Not assigned\",\"Neighborhood\":null},{\"Postal code\":\"M3A\",\"Borough\":\"North York\",\"Neighborhood\":\"Parkwoods\"},{\"Postal code\":\"M4A\",\"Borough\":\"North York\",\"Neighborhood\":\"Victoria Village\"},{\"Postal code\":\"M5A\",\"Borough\":\"Downtown Toronto\",\"Neighborhood\":\"Regent Park \\\\/ Harbourfront\"},{\"Postal code\":\"M6A\",\"Borough\":\"North York\",\"Neighborhood\":\"Lawrence Manor \\\\/ Lawrence Heights\"},{\"Postal code\":\"M7A\",\"Borough\":\"Downtown Toronto\",\"Neighborhood\":\"Queen\\'s Park \\\\/ Ontario Provincial Government\"},{\"Postal code\":\"M8A\",\"Borough\":\"Not assigned\",\"Neighborhood\":null},{\"Postal code\":\"M9A\",\"Borough\":\"Etobicoke\",\"Neighborhood\":\"Islington Avenue\"},{\"Postal code\":\"M1B\",\"Borough\":\"Scarborough\",\"Neighborhood\":\"Malvern \\\\/ Rouge\"},{\"Postal code\":\"M2B\",\"Borough\":\"Not assigned\",\"Neighborhood\":null},{\"Postal code\":\"M3B\",\"Borough\":\"North York\",\"Neighborhood\":\"Don Mills\"},{\"Postal code\":\"M4B\",\"Borough\":\"East York\",\"Neighborhood\":\"Parkview Hill \\\\/ Woodbine Gardens\"},{\"Postal code\":\"M5B\",\"Borough\":\"Downtown Toronto\",\"Neighborhood\":\"Garden District, Ryerson\"},{\"Postal code\":\"M6B\",\"Borough\":\"North York\",\"Neighborhood\":\"Glencairn\"},{\"Postal code\":\"M7B\",\"Borough\":\"Not assigned\",\"Neighborhood\":null},{\"Postal code\":\"M8B\",\"Borough\":\"Not assigned\",\"Neighborhood\":null},{\"Postal code\":\"M9B\",\"Borough\":\"Etobicoke\",\"Neighborhood\":\"West Deane Park \\\\/ Princess Gardens \\\\/ Martin Grove \\\\/ Islington \\\\/ Cloverdale\"},{\"Postal code\":\"M1C\",\"Borough\":\"Scarborough\",\"Neighborhood\":\"Rouge Hill \\\\/ Port Union \\\\/ Highland Creek\"},{\"Postal code\":\"M2C\",\"Borough\":\"Not assigned\",\"Neighborhood\":null},{\"Postal code\":\"M3C\",\"Borough\":\"North York\",\"Neighborhood\":\"Don Mills\"},{\"Postal code\":\"M4C\",\"Borough\":\"East York\",\"Neighborhood\":\"Woodbine Heights\"},{\"Postal code\":\"M5C\",\"Borough\":\"Downtown Toronto\",\"Neighborhood\":\"St. James Town\"},{\"Postal code\":\"M6C\",\"Borough\":\"York\",\"Neighborhood\":\"Humewood-Cedarvale\"},{\"Postal code\":\"M7C\",\"Borough\":\"Not assigned\",\"Neighborhood\":null},{\"Postal code\":\"M8C\",\"Borough\":\"Not assigned\",\"Neighborhood\":null},{\"Postal code\":\"M9C\",\"Borough\":\"Etobicoke\",\"Neighborhood\":\"Eringate \\\\/ Bloordale Gardens \\\\/ Old Burnhamthorpe \\\\/ Markland Wood\"},{\"Postal code\":\"M1E\",\"Borough\":\"Scarborough\",\"Neighborhood\":\"Guildwood \\\\/ Morningside \\\\/ West Hill\"},{\"Postal code\":\"M2E\",\"Borough\":\"Not assigned\",\"Neighborhood\":null},{\"Postal code\":\"M3E\",\"Borough\":\"Not assigned\",\"Neighborhood\":null},{\"Postal code\":\"M4E\",\"Borough\":\"East Toronto\",\"Neighborhood\":\"The Beaches\"},{\"Postal code\":\"M5E\",\"Borough\":\"Downtown Toronto\",\"Neighborhood\":\"Berczy Park\"},{\"Postal code\":\"M6E\",\"Borough\":\"York\",\"Neighborhood\":\"Caledonia-Fairbanks\"},{\"Postal code\":\"M7E\",\"Borough\":\"Not assigned\",\"Neighborhood\":null},{\"Postal code\":\"M8E\",\"Borough\":\"Not assigned\",\"Neighborhood\":null},{\"Postal code\":\"M9E\",\"Borough\":\"Not assigned\",\"Neighborhood\":null},{\"Postal code\":\"M1G\",\"Borough\":\"Scarborough\",\"Neighborhood\":\"Woburn\"},{\"Postal code\":\"M2G\",\"Borough\":\"Not assigned\",\"Neighborhood\":null},{\"Postal code\":\"M3G\",\"Borough\":\"Not assigned\",\"Neighborhood\":null},{\"Postal code\":\"M4G\",\"Borough\":\"East York\",\"Neighborhood\":\"Leaside\"},{\"Postal code\":\"M5G\",\"Borough\":\"Downtown Toronto\",\"Neighborhood\":\"Central Bay Street\"},{\"Postal code\":\"M6G\",\"Borough\":\"Downtown Toronto\",\"Neighborhood\":\"Christie\"},{\"Postal code\":\"M7G\",\"Borough\":\"Not assigned\",\"Neighborhood\":null},{\"Postal code\":\"M8G\",\"Borough\":\"Not assigned\",\"Neighborhood\":null},{\"Postal code\":\"M9G\",\"Borough\":\"Not assigned\",\"Neighborhood\":null},{\"Postal code\":\"M1H\",\"Borough\":\"Scarborough\",\"Neighborhood\":\"Cedarbrae\"},{\"Postal code\":\"M2H\",\"Borough\":\"North York\",\"Neighborhood\":\"Hillcrest Village\"},{\"Postal code\":\"M3H\",\"Borough\":\"North York\",\"Neighborhood\":\"Bathurst Manor \\\\/ Wilson Heights \\\\/ Downsview North\"},{\"Postal code\":\"M4H\",\"Borough\":\"East York\",\"Neighborhood\":\"Thorncliffe Park\"},{\"Postal code\":\"M5H\",\"Borough\":\"Downtown Toronto\",\"Neighborhood\":\"Richmond \\\\/ Adelaide \\\\/ King\"},{\"Postal code\":\"M6H\",\"Borough\":\"West Toronto\",\"Neighborhood\":\"Dufferin \\\\/ Dovercourt Village\"},{\"Postal code\":\"M7H\",\"Borough\":\"Not assigned\",\"Neighborhood\":null},{\"Postal code\":\"M8H\",\"Borough\":\"Not assigned\",\"Neighborhood\":null},{\"Postal code\":\"M9H\",\"Borough\":\"Not assigned\",\"Neighborhood\":null},{\"Postal code\":\"M1J\",\"Borough\":\"Scarborough\",\"Neighborhood\":\"Scarborough Village\"},{\"Postal code\":\"M2J\",\"Borough\":\"North York\",\"Neighborhood\":\"Fairview \\\\/ Henry Farm \\\\/ Oriole\"},{\"Postal code\":\"M3J\",\"Borough\":\"North York\",\"Neighborhood\":\"Northwood Park \\\\/ York University\"},{\"Postal code\":\"M4J\",\"Borough\":\"East York\",\"Neighborhood\":\"East Toronto\"},{\"Postal code\":\"M5J\",\"Borough\":\"Downtown Toronto\",\"Neighborhood\":\"Harbourfront East \\\\/ Union Station \\\\/ Toronto Islands\"},{\"Postal code\":\"M6J\",\"Borough\":\"West Toronto\",\"Neighborhood\":\"Little Portugal \\\\/ Trinity\"},{\"Postal code\":\"M7J\",\"Borough\":\"Not assigned\",\"Neighborhood\":null},{\"Postal code\":\"M8J\",\"Borough\":\"Not assigned\",\"Neighborhood\":null},{\"Postal code\":\"M9J\",\"Borough\":\"Not assigned\",\"Neighborhood\":null},{\"Postal code\":\"M1K\",\"Borough\":\"Scarborough\",\"Neighborhood\":\"Kennedy Park \\\\/ Ionview \\\\/ East Birchmount Park\"},{\"Postal code\":\"M2K\",\"Borough\":\"North York\",\"Neighborhood\":\"Bayview Village\"},{\"Postal code\":\"M3K\",\"Borough\":\"North York\",\"Neighborhood\":\"Downsview\"},{\"Postal code\":\"M4K\",\"Borough\":\"East Toronto\",\"Neighborhood\":\"The Danforth West \\\\/ Riverdale\"},{\"Postal code\":\"M5K\",\"Borough\":\"Downtown Toronto\",\"Neighborhood\":\"Toronto Dominion Centre \\\\/ Design Exchange\"},{\"Postal code\":\"M6K\",\"Borough\":\"West Toronto\",\"Neighborhood\":\"Brockton \\\\/ Parkdale Village \\\\/ Exhibition Place\"},{\"Postal code\":\"M7K\",\"Borough\":\"Not assigned\",\"Neighborhood\":null},{\"Postal code\":\"M8K\",\"Borough\":\"Not assigned\",\"Neighborhood\":null},{\"Postal code\":\"M9K\",\"Borough\":\"Not assigned\",\"Neighborhood\":null},{\"Postal code\":\"M1L\",\"Borough\":\"Scarborough\",\"Neighborhood\":\"Golden Mile \\\\/ Clairlea \\\\/ Oakridge\"},{\"Postal code\":\"M2L\",\"Borough\":\"North York\",\"Neighborhood\":\"York Mills \\\\/ Silver Hills\"},{\"Postal code\":\"M3L\",\"Borough\":\"North York\",\"Neighborhood\":\"Downsview\"},{\"Postal code\":\"M4L\",\"Borough\":\"East Toronto\",\"Neighborhood\":\"India Bazaar \\\\/ The Beaches West\"},{\"Postal code\":\"M5L\",\"Borough\":\"Downtown Toronto\",\"Neighborhood\":\"Commerce Court \\\\/ Victoria Hotel\"},{\"Postal code\":\"M6L\",\"Borough\":\"North York\",\"Neighborhood\":\"North Park \\\\/ Maple Leaf Park \\\\/ Upwood Park\"},{\"Postal code\":\"M7L\",\"Borough\":\"Not assigned\",\"Neighborhood\":null},{\"Postal code\":\"M8L\",\"Borough\":\"Not assigned\",\"Neighborhood\":null},{\"Postal code\":\"M9L\",\"Borough\":\"North York\",\"Neighborhood\":\"Humber Summit\"},{\"Postal code\":\"M1M\",\"Borough\":\"Scarborough\",\"Neighborhood\":\"Cliffside \\\\/ Cliffcrest \\\\/ Scarborough Village West\"},{\"Postal code\":\"M2M\",\"Borough\":\"North York\",\"Neighborhood\":\"Willowdale \\\\/ Newtonbrook\"},{\"Postal code\":\"M3M\",\"Borough\":\"North York\",\"Neighborhood\":\"Downsview\"},{\"Postal code\":\"M4M\",\"Borough\":\"East Toronto\",\"Neighborhood\":\"Studio District\"},{\"Postal code\":\"M5M\",\"Borough\":\"North York\",\"Neighborhood\":\"Bedford Park \\\\/ Lawrence Manor East\"},{\"Postal code\":\"M6M\",\"Borough\":\"York\",\"Neighborhood\":\"Del Ray \\\\/ Mount Dennis \\\\/ Keelsdale and Silverthorn\"},{\"Postal code\":\"M7M\",\"Borough\":\"Not assigned\",\"Neighborhood\":null},{\"Postal code\":\"M8M\",\"Borough\":\"Not assigned\",\"Neighborhood\":null},{\"Postal code\":\"M9M\",\"Borough\":\"North York\",\"Neighborhood\":\"Humberlea \\\\/ Emery\"},{\"Postal code\":\"M1N\",\"Borough\":\"Scarborough\",\"Neighborhood\":\"Birch Cliff \\\\/ Cliffside West\"},{\"Postal code\":\"M2N\",\"Borough\":\"North York\",\"Neighborhood\":\"Willowdale\"},{\"Postal code\":\"M3N\",\"Borough\":\"North York\",\"Neighborhood\":\"Downsview\"},{\"Postal code\":\"M4N\",\"Borough\":\"Central Toronto\",\"Neighborhood\":\"Lawrence Park\"},{\"Postal code\":\"M5N\",\"Borough\":\"Central Toronto\",\"Neighborhood\":\"Roselawn\"},{\"Postal code\":\"M6N\",\"Borough\":\"York\",\"Neighborhood\":\"Runnymede \\\\/ The Junction North\"},{\"Postal code\":\"M7N\",\"Borough\":\"Not assigned\",\"Neighborhood\":null},{\"Postal code\":\"M8N\",\"Borough\":\"Not assigned\",\"Neighborhood\":null},{\"Postal code\":\"M9N\",\"Borough\":\"York\",\"Neighborhood\":\"Weston\"},{\"Postal code\":\"M1P\",\"Borough\":\"Scarborough\",\"Neighborhood\":\"Dorset Park \\\\/ Wexford Heights \\\\/ Scarborough Town Centre\"},{\"Postal code\":\"M2P\",\"Borough\":\"North York\",\"Neighborhood\":\"York Mills West\"},{\"Postal code\":\"M3P\",\"Borough\":\"Not assigned\",\"Neighborhood\":null},{\"Postal code\":\"M4P\",\"Borough\":\"Central Toronto\",\"Neighborhood\":\"Davisville North\"},{\"Postal code\":\"M5P\",\"Borough\":\"Central Toronto\",\"Neighborhood\":\"Forest Hill North & West\"},{\"Postal code\":\"M6P\",\"Borough\":\"West Toronto\",\"Neighborhood\":\"High Park \\\\/ The Junction South\"},{\"Postal code\":\"M7P\",\"Borough\":\"Not assigned\",\"Neighborhood\":null},{\"Postal code\":\"M8P\",\"Borough\":\"Not assigned\",\"Neighborhood\":null},{\"Postal code\":\"M9P\",\"Borough\":\"Etobicoke\",\"Neighborhood\":\"Westmount\"},{\"Postal code\":\"M1R\",\"Borough\":\"Scarborough\",\"Neighborhood\":\"Wexford \\\\/ Maryvale\"},{\"Postal code\":\"M2R\",\"Borough\":\"North York\",\"Neighborhood\":\"Willowdale\"},{\"Postal code\":\"M3R\",\"Borough\":\"Not assigned\",\"Neighborhood\":null},{\"Postal code\":\"M4R\",\"Borough\":\"Central Toronto\",\"Neighborhood\":\"North Toronto West\"},{\"Postal code\":\"M5R\",\"Borough\":\"Central Toronto\",\"Neighborhood\":\"The Annex \\\\/ North Midtown \\\\/ Yorkville\"},{\"Postal code\":\"M6R\",\"Borough\":\"West Toronto\",\"Neighborhood\":\"Parkdale \\\\/ Roncesvalles\"},{\"Postal code\":\"M7R\",\"Borough\":\"Mississauga\",\"Neighborhood\":\"Canada Post Gateway Processing Centre\"},{\"Postal code\":\"M8R\",\"Borough\":\"Not assigned\",\"Neighborhood\":null},{\"Postal code\":\"M9R\",\"Borough\":\"Etobicoke\",\"Neighborhood\":\"Kingsview Village \\\\/ St. Phillips \\\\/ Martin Grove Gardens \\\\/ Richview Gardens\"},{\"Postal code\":\"M1S\",\"Borough\":\"Scarborough\",\"Neighborhood\":\"Agincourt\"},{\"Postal code\":\"M2S\",\"Borough\":\"Not assigned\",\"Neighborhood\":null},{\"Postal code\":\"M3S\",\"Borough\":\"Not assigned\",\"Neighborhood\":null},{\"Postal code\":\"M4S\",\"Borough\":\"Central Toronto\",\"Neighborhood\":\"Davisville\"},{\"Postal code\":\"M5S\",\"Borough\":\"Downtown Toronto\",\"Neighborhood\":\"University of Toronto \\\\/ Harbord\"},{\"Postal code\":\"M6S\",\"Borough\":\"West Toronto\",\"Neighborhood\":\"Runnymede \\\\/ Swansea\"},{\"Postal code\":\"M7S\",\"Borough\":\"Not assigned\",\"Neighborhood\":null},{\"Postal code\":\"M8S\",\"Borough\":\"Not assigned\",\"Neighborhood\":null},{\"Postal code\":\"M9S\",\"Borough\":\"Not assigned\",\"Neighborhood\":null},{\"Postal code\":\"M1T\",\"Borough\":\"Scarborough\",\"Neighborhood\":\"Clarks Corners \\\\/ Tam O\\'Shanter \\\\/ Sullivan\"},{\"Postal code\":\"M2T\",\"Borough\":\"Not assigned\",\"Neighborhood\":null},{\"Postal code\":\"M3T\",\"Borough\":\"Not assigned\",\"Neighborhood\":null},{\"Postal code\":\"M4T\",\"Borough\":\"Central Toronto\",\"Neighborhood\":\"Moore Park \\\\/ Summerhill East\"},{\"Postal code\":\"M5T\",\"Borough\":\"Downtown Toronto\",\"Neighborhood\":\"Kensington Market \\\\/ Chinatown \\\\/ Grange Park\"},{\"Postal code\":\"M6T\",\"Borough\":\"Not assigned\",\"Neighborhood\":null},{\"Postal code\":\"M7T\",\"Borough\":\"Not assigned\",\"Neighborhood\":null},{\"Postal code\":\"M8T\",\"Borough\":\"Not assigned\",\"Neighborhood\":null},{\"Postal code\":\"M9T\",\"Borough\":\"Not assigned\",\"Neighborhood\":null},{\"Postal code\":\"M1V\",\"Borough\":\"Scarborough\",\"Neighborhood\":\"Milliken \\\\/ Agincourt North \\\\/ Steeles East \\\\/ L\\'Amoreaux East\"},{\"Postal code\":\"M2V\",\"Borough\":\"Not assigned\",\"Neighborhood\":null},{\"Postal code\":\"M3V\",\"Borough\":\"Not assigned\",\"Neighborhood\":null},{\"Postal code\":\"M4V\",\"Borough\":\"Central Toronto\",\"Neighborhood\":\"Summerhill West \\\\/ Rathnelly \\\\/ South Hill \\\\/ Forest Hill SE \\\\/ Deer Park\"},{\"Postal code\":\"M5V\",\"Borough\":\"Downtown Toronto\",\"Neighborhood\":\"CN Tower \\\\/ King and Spadina \\\\/ Railway Lands \\\\/ Harbourfront West \\\\/ Bathurst  Quay \\\\/ South Niagara \\\\/ Island airport\"},{\"Postal code\":\"M6V\",\"Borough\":\"Not assigned\",\"Neighborhood\":null},{\"Postal code\":\"M7V\",\"Borough\":\"Not assigned\",\"Neighborhood\":null},{\"Postal code\":\"M8V\",\"Borough\":\"Etobicoke\",\"Neighborhood\":\"New Toronto \\\\/ Mimico South \\\\/ Humber Bay Shores\"},{\"Postal code\":\"M9V\",\"Borough\":\"Etobicoke\",\"Neighborhood\":\"South Steeles \\\\/ Silverstone \\\\/ Humbergate \\\\/ Jamestown \\\\/ Mount Olive \\\\/ Beaumond Heights \\\\/ Thistletown \\\\/ Albion Gardens\"},{\"Postal code\":\"M1W\",\"Borough\":\"Scarborough\",\"Neighborhood\":\"Steeles West \\\\/ L\\'Amoreaux West\"},{\"Postal code\":\"M2W\",\"Borough\":\"Not assigned\",\"Neighborhood\":null},{\"Postal code\":\"M3W\",\"Borough\":\"Not assigned\",\"Neighborhood\":null},{\"Postal code\":\"M4W\",\"Borough\":\"Downtown Toronto\",\"Neighborhood\":\"Rosedale\"},{\"Postal code\":\"M5W\",\"Borough\":\"Downtown Toronto\",\"Neighborhood\":\"Stn A PO Boxes\"},{\"Postal code\":\"M6W\",\"Borough\":\"Not assigned\",\"Neighborhood\":null},{\"Postal code\":\"M7W\",\"Borough\":\"Not assigned\",\"Neighborhood\":null},{\"Postal code\":\"M8W\",\"Borough\":\"Etobicoke\",\"Neighborhood\":\"Alderwood \\\\/ Long Branch\"},{\"Postal code\":\"M9W\",\"Borough\":\"Etobicoke\",\"Neighborhood\":\"Northwest\"},{\"Postal code\":\"M1X\",\"Borough\":\"Scarborough\",\"Neighborhood\":\"Upper Rouge\"},{\"Postal code\":\"M2X\",\"Borough\":\"Not assigned\",\"Neighborhood\":null},{\"Postal code\":\"M3X\",\"Borough\":\"Not assigned\",\"Neighborhood\":null},{\"Postal code\":\"M4X\",\"Borough\":\"Downtown Toronto\",\"Neighborhood\":\"St. James Town \\\\/ Cabbagetown\"},{\"Postal code\":\"M5X\",\"Borough\":\"Downtown Toronto\",\"Neighborhood\":\"First Canadian Place \\\\/ Underground city\"},{\"Postal code\":\"M6X\",\"Borough\":\"Not assigned\",\"Neighborhood\":null},{\"Postal code\":\"M7X\",\"Borough\":\"Not assigned\",\"Neighborhood\":null},{\"Postal code\":\"M8X\",\"Borough\":\"Etobicoke\",\"Neighborhood\":\"The Kingsway \\\\/ Montgomery Road \\\\/ Old Mill North\"},{\"Postal code\":\"M9X\",\"Borough\":\"Not assigned\",\"Neighborhood\":null},{\"Postal code\":\"M1Y\",\"Borough\":\"Not assigned\",\"Neighborhood\":null},{\"Postal code\":\"M2Y\",\"Borough\":\"Not assigned\",\"Neighborhood\":null},{\"Postal code\":\"M3Y\",\"Borough\":\"Not assigned\",\"Neighborhood\":null},{\"Postal code\":\"M4Y\",\"Borough\":\"Downtown Toronto\",\"Neighborhood\":\"Church and Wellesley\"},{\"Postal code\":\"M5Y\",\"Borough\":\"Not assigned\",\"Neighborhood\":null},{\"Postal code\":\"M6Y\",\"Borough\":\"Not assigned\",\"Neighborhood\":null},{\"Postal code\":\"M7Y\",\"Borough\":\"East Toronto\",\"Neighborhood\":\"Business reply mail Processing CentrE\"},{\"Postal code\":\"M8Y\",\"Borough\":\"Etobicoke\",\"Neighborhood\":\"Old Mill South \\\\/ King\\'s Mill Park \\\\/ Sunnylea \\\\/ Humber Bay \\\\/ Mimico NE \\\\/ The Queensway East \\\\/ Royal York South East \\\\/ Kingsway Park South East\"},{\"Postal code\":\"M9Y\",\"Borough\":\"Not assigned\",\"Neighborhood\":null},{\"Postal code\":\"M1Z\",\"Borough\":\"Not assigned\",\"Neighborhood\":null},{\"Postal code\":\"M2Z\",\"Borough\":\"Not assigned\",\"Neighborhood\":null},{\"Postal code\":\"M3Z\",\"Borough\":\"Not assigned\",\"Neighborhood\":null},{\"Postal code\":\"M4Z\",\"Borough\":\"Not assigned\",\"Neighborhood\":null},{\"Postal code\":\"M5Z\",\"Borough\":\"Not assigned\",\"Neighborhood\":null},{\"Postal code\":\"M6Z\",\"Borough\":\"Not assigned\",\"Neighborhood\":null},{\"Postal code\":\"M7Z\",\"Borough\":\"Not assigned\",\"Neighborhood\":null},{\"Postal code\":\"M8Z\",\"Borough\":\"Etobicoke\",\"Neighborhood\":\"Mimico NW \\\\/ The Queensway West \\\\/ South of Bloor \\\\/ Kingsway Park South West \\\\/ Royal York South West\"},{\"Postal code\":\"M9Z\",\"Borough\":\"Not assigned\",\"Neighborhood\":null}]'"
            ]
          },
          "metadata": {
            "tags": []
          },
          "execution_count": 34
        }
      ]
    },
    {
      "cell_type": "code",
      "metadata": {
        "id": "Wk7b4tPi4rcI",
        "colab_type": "code",
        "outputId": "16e3f361-0362-44e7-a51e-5bf1cb9da7f4",
        "colab": {
          "base_uri": "https://localhost:8080/",
          "height": 35
        }
      },
      "source": [
        "type(df[0])"
      ],
      "execution_count": 0,
      "outputs": [
        {
          "output_type": "execute_result",
          "data": {
            "text/plain": [
              "pandas.core.frame.DataFrame"
            ]
          },
          "metadata": {
            "tags": []
          },
          "execution_count": 35
        }
      ]
    },
    {
      "cell_type": "code",
      "metadata": {
        "id": "G9z7wclC5AqU",
        "colab_type": "code",
        "colab": {}
      },
      "source": [
        "df = df[0]"
      ],
      "execution_count": 0,
      "outputs": []
    },
    {
      "cell_type": "code",
      "metadata": {
        "id": "beiMmuc95Dri",
        "colab_type": "code",
        "outputId": "36eb51e8-866b-4388-a3cc-cf8ca262e8aa",
        "colab": {
          "base_uri": "https://localhost:8080/",
          "height": 35
        }
      },
      "source": [
        "df.columns"
      ],
      "execution_count": 0,
      "outputs": [
        {
          "output_type": "execute_result",
          "data": {
            "text/plain": [
              "Index(['Postal code', 'Borough', 'Neighborhood'], dtype='object')"
            ]
          },
          "metadata": {
            "tags": []
          },
          "execution_count": 43
        }
      ]
    },
    {
      "cell_type": "markdown",
      "metadata": {
        "id": "fNAeSIlmCGCP",
        "colab_type": "text"
      },
      "source": [
        "Cleaning the data (dropping the not assigned Borough entries and merging neighborhoods with same Postalcode ) "
      ]
    },
    {
      "cell_type": "code",
      "metadata": {
        "id": "b42uPtPf5FZz",
        "colab_type": "code",
        "colab": {}
      },
      "source": [
        "indexNames = df[ df['Borough'] =='Not assigned'].index\n",
        "df.drop(indexNames , inplace=True)\n",
        "df.loc[df['Neighborhood'] =='Not assigned' , 'Neighborhood'] = df['Borough']\n",
        "result = df.groupby(['Postal code','Borough'], sort=False).agg( ', '.join)\n",
        "df_new=result.reset_index()"
      ],
      "execution_count": 0,
      "outputs": []
    },
    {
      "cell_type": "code",
      "metadata": {
        "id": "R5WvJDzj8zrP",
        "colab_type": "code",
        "outputId": "45d7fae1-8b4b-42a9-8e8f-f71898887c89",
        "colab": {
          "base_uri": "https://localhost:8080/",
          "height": 363
        }
      },
      "source": [
        "df_new.head(10)"
      ],
      "execution_count": 47,
      "outputs": [
        {
          "output_type": "execute_result",
          "data": {
            "text/html": [
              "<div>\n",
              "<style scoped>\n",
              "    .dataframe tbody tr th:only-of-type {\n",
              "        vertical-align: middle;\n",
              "    }\n",
              "\n",
              "    .dataframe tbody tr th {\n",
              "        vertical-align: top;\n",
              "    }\n",
              "\n",
              "    .dataframe thead th {\n",
              "        text-align: right;\n",
              "    }\n",
              "</style>\n",
              "<table border=\"1\" class=\"dataframe\">\n",
              "  <thead>\n",
              "    <tr style=\"text-align: right;\">\n",
              "      <th></th>\n",
              "      <th>Postal code</th>\n",
              "      <th>Borough</th>\n",
              "      <th>Neighborhood</th>\n",
              "    </tr>\n",
              "  </thead>\n",
              "  <tbody>\n",
              "    <tr>\n",
              "      <th>0</th>\n",
              "      <td>M3A</td>\n",
              "      <td>North York</td>\n",
              "      <td>Parkwoods</td>\n",
              "    </tr>\n",
              "    <tr>\n",
              "      <th>1</th>\n",
              "      <td>M4A</td>\n",
              "      <td>North York</td>\n",
              "      <td>Victoria Village</td>\n",
              "    </tr>\n",
              "    <tr>\n",
              "      <th>2</th>\n",
              "      <td>M5A</td>\n",
              "      <td>Downtown Toronto</td>\n",
              "      <td>Regent Park / Harbourfront</td>\n",
              "    </tr>\n",
              "    <tr>\n",
              "      <th>3</th>\n",
              "      <td>M6A</td>\n",
              "      <td>North York</td>\n",
              "      <td>Lawrence Manor / Lawrence Heights</td>\n",
              "    </tr>\n",
              "    <tr>\n",
              "      <th>4</th>\n",
              "      <td>M7A</td>\n",
              "      <td>Downtown Toronto</td>\n",
              "      <td>Queen's Park / Ontario Provincial Government</td>\n",
              "    </tr>\n",
              "    <tr>\n",
              "      <th>5</th>\n",
              "      <td>M9A</td>\n",
              "      <td>Etobicoke</td>\n",
              "      <td>Islington Avenue</td>\n",
              "    </tr>\n",
              "    <tr>\n",
              "      <th>6</th>\n",
              "      <td>M1B</td>\n",
              "      <td>Scarborough</td>\n",
              "      <td>Malvern / Rouge</td>\n",
              "    </tr>\n",
              "    <tr>\n",
              "      <th>7</th>\n",
              "      <td>M3B</td>\n",
              "      <td>North York</td>\n",
              "      <td>Don Mills</td>\n",
              "    </tr>\n",
              "    <tr>\n",
              "      <th>8</th>\n",
              "      <td>M4B</td>\n",
              "      <td>East York</td>\n",
              "      <td>Parkview Hill / Woodbine Gardens</td>\n",
              "    </tr>\n",
              "    <tr>\n",
              "      <th>9</th>\n",
              "      <td>M5B</td>\n",
              "      <td>Downtown Toronto</td>\n",
              "      <td>Garden District, Ryerson</td>\n",
              "    </tr>\n",
              "  </tbody>\n",
              "</table>\n",
              "</div>"
            ],
            "text/plain": [
              "  Postal code           Borough                                  Neighborhood\n",
              "0         M3A        North York                                     Parkwoods\n",
              "1         M4A        North York                              Victoria Village\n",
              "2         M5A  Downtown Toronto                    Regent Park / Harbourfront\n",
              "3         M6A        North York             Lawrence Manor / Lawrence Heights\n",
              "4         M7A  Downtown Toronto  Queen's Park / Ontario Provincial Government\n",
              "5         M9A         Etobicoke                              Islington Avenue\n",
              "6         M1B       Scarborough                               Malvern / Rouge\n",
              "7         M3B        North York                                     Don Mills\n",
              "8         M4B         East York              Parkview Hill / Woodbine Gardens\n",
              "9         M5B  Downtown Toronto                      Garden District, Ryerson"
            ]
          },
          "metadata": {
            "tags": []
          },
          "execution_count": 47
        }
      ]
    },
    {
      "cell_type": "code",
      "metadata": {
        "id": "5pUBx3cXBErI",
        "colab_type": "code",
        "outputId": "f86727de-d35d-4879-e71b-6b33761fdd57",
        "colab": {
          "base_uri": "https://localhost:8080/",
          "height": 35
        }
      },
      "source": [
        "df_new.shape"
      ],
      "execution_count": 0,
      "outputs": [
        {
          "output_type": "execute_result",
          "data": {
            "text/plain": [
              "(103, 3)"
            ]
          },
          "metadata": {
            "tags": []
          },
          "execution_count": 30
        }
      ]
    },
    {
      "cell_type": "markdown",
      "metadata": {
        "id": "NWrMSADDLALb",
        "colab_type": "text"
      },
      "source": [
        "# 2nd Part\n"
      ]
    },
    {
      "cell_type": "markdown",
      "metadata": {
        "id": "0MxWNLnvLEwW",
        "colab_type": "text"
      },
      "source": [
        "Using the geographical location data from the given url merge the contents based on Postal Code "
      ]
    },
    {
      "cell_type": "code",
      "metadata": {
        "id": "SyEUWba0FB8R",
        "colab_type": "code",
        "colab": {}
      },
      "source": [
        "url=\"http://cocl.us/Geospatial_data\"\n",
        "import io\n",
        "s=requests.get(url).content\n",
        "c=pd.read_csv(io.StringIO(s.decode('utf-8')))\n",
        "c.columns = ['Postal code', 'Latitude', 'Longitude']\n",
        "df = pd.merge(c, df_new, on='Postal code')\n",
        "\n",
        "# reorder column names and show the dataframe\n",
        "df = df[['Postal code', 'Borough', 'Neighborhood', 'Latitude', 'Longitude']]"
      ],
      "execution_count": 0,
      "outputs": []
    },
    {
      "cell_type": "code",
      "metadata": {
        "id": "ozaMI9T4JSs6",
        "colab_type": "code",
        "colab": {
          "base_uri": "https://localhost:8080/",
          "height": 206
        },
        "outputId": "8e8f7d02-f506-41c0-8541-71ecdd94bf6d"
      },
      "source": [
        "df.head(5)"
      ],
      "execution_count": 59,
      "outputs": [
        {
          "output_type": "execute_result",
          "data": {
            "text/html": [
              "<div>\n",
              "<style scoped>\n",
              "    .dataframe tbody tr th:only-of-type {\n",
              "        vertical-align: middle;\n",
              "    }\n",
              "\n",
              "    .dataframe tbody tr th {\n",
              "        vertical-align: top;\n",
              "    }\n",
              "\n",
              "    .dataframe thead th {\n",
              "        text-align: right;\n",
              "    }\n",
              "</style>\n",
              "<table border=\"1\" class=\"dataframe\">\n",
              "  <thead>\n",
              "    <tr style=\"text-align: right;\">\n",
              "      <th></th>\n",
              "      <th>Postal code</th>\n",
              "      <th>Borough</th>\n",
              "      <th>Neighborhood</th>\n",
              "      <th>Latitude</th>\n",
              "      <th>Longitude</th>\n",
              "    </tr>\n",
              "  </thead>\n",
              "  <tbody>\n",
              "    <tr>\n",
              "      <th>0</th>\n",
              "      <td>M1B</td>\n",
              "      <td>Scarborough</td>\n",
              "      <td>Malvern / Rouge</td>\n",
              "      <td>43.806686</td>\n",
              "      <td>-79.194353</td>\n",
              "    </tr>\n",
              "    <tr>\n",
              "      <th>1</th>\n",
              "      <td>M1C</td>\n",
              "      <td>Scarborough</td>\n",
              "      <td>Rouge Hill / Port Union / Highland Creek</td>\n",
              "      <td>43.784535</td>\n",
              "      <td>-79.160497</td>\n",
              "    </tr>\n",
              "    <tr>\n",
              "      <th>2</th>\n",
              "      <td>M1E</td>\n",
              "      <td>Scarborough</td>\n",
              "      <td>Guildwood / Morningside / West Hill</td>\n",
              "      <td>43.763573</td>\n",
              "      <td>-79.188711</td>\n",
              "    </tr>\n",
              "    <tr>\n",
              "      <th>3</th>\n",
              "      <td>M1G</td>\n",
              "      <td>Scarborough</td>\n",
              "      <td>Woburn</td>\n",
              "      <td>43.770992</td>\n",
              "      <td>-79.216917</td>\n",
              "    </tr>\n",
              "    <tr>\n",
              "      <th>4</th>\n",
              "      <td>M1H</td>\n",
              "      <td>Scarborough</td>\n",
              "      <td>Cedarbrae</td>\n",
              "      <td>43.773136</td>\n",
              "      <td>-79.239476</td>\n",
              "    </tr>\n",
              "  </tbody>\n",
              "</table>\n",
              "</div>"
            ],
            "text/plain": [
              "  Postal code      Borough                              Neighborhood  \\\n",
              "0         M1B  Scarborough                           Malvern / Rouge   \n",
              "1         M1C  Scarborough  Rouge Hill / Port Union / Highland Creek   \n",
              "2         M1E  Scarborough       Guildwood / Morningside / West Hill   \n",
              "3         M1G  Scarborough                                    Woburn   \n",
              "4         M1H  Scarborough                                 Cedarbrae   \n",
              "\n",
              "    Latitude  Longitude  \n",
              "0  43.806686 -79.194353  \n",
              "1  43.784535 -79.160497  \n",
              "2  43.763573 -79.188711  \n",
              "3  43.770992 -79.216917  \n",
              "4  43.773136 -79.239476  "
            ]
          },
          "metadata": {
            "tags": []
          },
          "execution_count": 59
        }
      ]
    },
    {
      "cell_type": "code",
      "metadata": {
        "id": "VvzuwrbRJwD1",
        "colab_type": "code",
        "colab": {}
      },
      "source": [
        ""
      ],
      "execution_count": 0,
      "outputs": []
    }
  ]
}